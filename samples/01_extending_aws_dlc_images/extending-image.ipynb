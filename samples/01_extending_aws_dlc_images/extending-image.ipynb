{
 "cells": [
  {
   "attachments": {},
   "cell_type": "markdown",
   "id": "be2b95ed",
   "metadata": {},
   "source": [
    "# Amazon Deep Learning Containers (DLC) - Extending base containers\n",
    "### Installing libraries required for stable diffusion-2.1"
   ]
  },
  {
   "attachments": {},
   "cell_type": "markdown",
   "id": "50dedc03",
   "metadata": {},
   "source": [
    "1. [Introduction](#Introduction)  \n",
    "2. [Development Environment and Permissions](#Development-Environment-and-Permissions)\n",
    "3. [ECR Login](#ECR-Login)\n",
    "4. [Dockerfile](#Dockerfile)\n",
    "5. [Image Creation and Push to ECR](#image-creation-and-push-to-ecr)\n",
    "6. [Manual image push](#manual-image-push)\n",
    "\n"
   ]
  },
  {
   "attachments": {},
   "cell_type": "markdown",
   "id": "1680bccf",
   "metadata": {},
   "source": [
    "# Introduction\n",
    "\n",
    "Welcome to our extending AWS deep learning container example. In this notebook we will show you how to extend a base DLC image with libraries that fits your specific needs. We will begin by specifying a base image that we will retrieve from Amazon Elastic Container Registry (ECR). Then, we will proceed to install additional Python libraries necessary for running stable diffusion-2.1.\n",
    "\n",
    "*To get started you'll need an aws account to access ECR.*"
   ]
  },
  {
   "attachments": {},
   "cell_type": "markdown",
   "id": "bf024963",
   "metadata": {},
   "source": [
    "# Development Environment and Permissions\n",
    "\n",
    "## Permissions\n",
    "If you are going to use Sagemaker in a local environment. You need access to an IAM Role with the required permissions for Sagemaker.\n",
    "\n"
   ]
  },
  {
   "cell_type": "code",
   "execution_count": null,
   "id": "54af53df",
   "metadata": {},
   "outputs": [],
   "source": [
    "import sagemaker\n",
    "import boto3\n",
    "import os\n",
    "sess = sagemaker.Session()\n",
    "# sagemaker session bucket -> used for uploading data, models and logs\n",
    "# sagemaker will automatically create this bucket if it not exists\n",
    "sagemaker_session_bucket=None\n",
    "if sagemaker_session_bucket is None and sess is not None:\n",
    "    # set to default bucket if a bucket name is not given\n",
    "    sagemaker_session_bucket = sess.default_bucket()\n",
    "\n",
    "try:\n",
    "    role = sagemaker.get_execution_role()\n",
    "except ValueError:\n",
    "    iam = boto3.client('iam')\n",
    "    role = iam.get_role(RoleName='sagemaker_execution_role')['Role']['Arn']\n",
    "\n",
    "sess = sagemaker.Session(default_bucket=sagemaker_session_bucket)\n",
    "\n",
    "print(f\"sagemaker role arn: {role}\")\n",
    "print(f\"sagemaker bucket: {sess.default_bucket()}\")\n",
    "print(f\"sagemaker session region: {sess.boto_region_name}\")\n",
    "\n",
    "# Check if the \"container\" directory exists, and create it if it doesn't\n",
    "container_dir = \"container\"\n",
    "if not os.path.exists(container_dir):\n",
    "    os.makedirs(container_dir)"
   ]
  },
  {
   "attachments": {},
   "cell_type": "markdown",
   "id": "b64f0e92",
   "metadata": {},
   "source": [
    "## ECR Login\n",
    "\n",
    "In order to pull base images from ECR, it is necessary to authenticate with AWS. Please specify the region where you intend to use this."
   ]
  },
  {
   "cell_type": "code",
   "execution_count": null,
   "id": "1e126310",
   "metadata": {},
   "outputs": [],
   "source": [
    "!aws ecr get-login-password --region us-west-2 | docker login --username AWS --password-stdin 763104351884.dkr.ecr.us-west-2.amazonaws.com"
   ]
  },
  {
   "attachments": {},
   "cell_type": "markdown",
   "id": "0c028b96",
   "metadata": {},
   "source": [
    "## Dockerfile\n",
    "\n",
    "We are using a Hugging Face PyTorch inference ECR image as the base and extending it to include the required Python libraries for running stable diffusion."
   ]
  },
  {
   "cell_type": "code",
   "execution_count": 4,
   "id": "17e15ab1-337a-46a4-8bf0-acdd942af841",
   "metadata": {
    "tags": []
   },
   "outputs": [
    {
     "name": "stdout",
     "output_type": "stream",
     "text": [
      "Writing ./container/Dockerfile\n"
     ]
    }
   ],
   "source": [
    "%%writefile ./container/Dockerfile\n",
    "\n",
    "ARG REGION=us-west-2\n",
    "\n",
    "# Use the SageMaker PyTorch image as the base\n",
    "FROM 763104351884.dkr.ecr.${REGION}.amazonaws.com/huggingface-pytorch-inference:1.10.2-transformers4.17.0-gpu-py38-cu113-ubuntu20.04\n",
    "\n",
    "# Install necessary Python libraries\n",
    "RUN pip install deepspeed diffusers==0.11.1 transformers==4.25.1 scipy==1.9.3 accelerate==0.15.0"
   ]
  },
  {
   "attachments": {},
   "cell_type": "markdown",
   "id": "62811894",
   "metadata": {},
   "source": [
    "## Image Creation and Push to ECR\n",
    "\n",
    "Before proceeding with this step, please ensure that your execution role has the necessary access permissions for ECR. Additionally, if you encounter any issues, please verify whether the ECR repository has been created. It is important to confirm these prerequisites before continuing with image creation and pushing to ECR."
   ]
  },
  {
   "cell_type": "code",
   "execution_count": 14,
   "id": "78e61523-2f89-46a3-8df0-06718e31de88",
   "metadata": {
    "tags": []
   },
   "outputs": [
    {
     "name": "stdout",
     "output_type": "stream",
     "text": [
      "Process is interrupted.\n"
     ]
    }
   ],
   "source": [
    "%%sh\n",
    "\n",
    "# The name of our algorithm\n",
    "algorithm_name=pytorch-extending-deepspeed-stable-diffusion-v2-1-base\n",
    "\n",
    "cd container\n",
    "\n",
    "account=$(aws sts get-caller-identity --query Account --output text)\n",
    "\n",
    "# Enter here your aws Account ID\n",
    "account_id=12345678\n",
    "\n",
    "# Get the region defined in the current configuration (default to us-west-2 if none defined)\n",
    "region=$(aws configure get region)\n",
    "region=${region:-us-west-2}\n",
    "\n",
    "fullname=\"${account}.dkr.ecr.${region}.amazonaws.com/${algorithm_name}:latest\"\n",
    "\n",
    "# If the repository doesn't exist in ECR, create it.\n",
    "aws ecr describe-repositories --repository-names \"${algorithm_name}\" > /dev/null 2>&1\n",
    "\n",
    "if [ $? -ne 0 ]\n",
    "then\n",
    "aws ecr create-repository --repository-name \"${algorithm_name}\" > /dev/null\n",
    "fi\n",
    "\n",
    "# Get the login command from ECR and execute it directly\n",
    "$(aws ecr get-login --region ${region} --no-include-email)\n",
    "\n",
    "# Get the login command from ECR in order to pull down the SageMaker PyTorch image\n",
    "$(aws ecr get-login --registry-ids ${account_id} --region ${region} --no-include-email)\n",
    "\n",
    "# Build the docker image locally with the image name and then push it to ECR\n",
    "# with the full name.\n",
    "\n",
    "docker build  -t ${algorithm_name} . --build-arg REGION=${region}\n",
    "docker tag ${algorithm_name} ${fullname}\n",
    "\n",
    "docker push ${fullname}\n"
   ]
  },
  {
   "attachments": {},
   "cell_type": "markdown",
   "id": "d24716d0",
   "metadata": {},
   "source": [
    "## Manual Image Push\n",
    "\n",
    "In case you encounter any issues during the previous step, you have the option to manually push the image to ECR again. This allows you to retry the image push process if needed without rebuilding your image."
   ]
  },
  {
   "cell_type": "code",
   "execution_count": null,
   "id": "aad5afd9-0f1e-4202-939b-a54b8902ceb3",
   "metadata": {
    "tags": []
   },
   "outputs": [],
   "source": [
    "# Enter your own AWS Account ID\n",
    "!docker push 12345678.dkr.ecr.us-west-2.amazonaws.com/pytorch-extending-deepspeed-stable-diffusion-v2-1-base"
   ]
  }
 ],
 "metadata": {
  "kernelspec": {
   "display_name": "base",
   "language": "python",
   "name": "python3"
  },
  "language_info": {
   "codemirror_mode": {
    "name": "ipython",
    "version": 3
   },
   "file_extension": ".py",
   "mimetype": "text/x-python",
   "name": "python",
   "nbconvert_exporter": "python",
   "pygments_lexer": "ipython3",
   "version": "3.9.10"
  }
 },
 "nbformat": 4,
 "nbformat_minor": 5
}
